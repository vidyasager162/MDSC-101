{
 "cells": [
  {
   "cell_type": "code",
   "execution_count": 1,
   "id": "c8c01f19",
   "metadata": {
    "_cell_guid": "b1076dfc-b9ad-4769-8c92-a6c4dae69d19",
    "_uuid": "8f2839f25d086af736a60e9eeb907d3b93b6e0e5",
    "execution": {
     "iopub.execute_input": "2023-10-07T09:04:49.661666Z",
     "iopub.status.busy": "2023-10-07T09:04:49.660891Z",
     "iopub.status.idle": "2023-10-07T09:04:50.070337Z",
     "shell.execute_reply": "2023-10-07T09:04:50.069069Z"
    },
    "papermill": {
     "duration": 0.419906,
     "end_time": "2023-10-07T09:04:50.073685",
     "exception": false,
     "start_time": "2023-10-07T09:04:49.653779",
     "status": "completed"
    },
    "tags": []
   },
   "outputs": [
    {
     "name": "stdout",
     "output_type": "stream",
     "text": [
      "/kaggle/input/64x64-faces/set_1/pic00139.jpg\n",
      "/kaggle/input/64x64-faces/set_1/pic00156.jpg\n",
      "/kaggle/input/64x64-faces/set_1/pic00142.jpg\n",
      "/kaggle/input/64x64-faces/set_1/pic00116.jpg\n",
      "/kaggle/input/64x64-faces/set_1/pic00106.jpg\n",
      "/kaggle/input/64x64-faces/set_1/pic00085.jpg\n",
      "/kaggle/input/64x64-faces/set_1/pic00029.jpg\n",
      "/kaggle/input/64x64-faces/set_1/pic00035.jpg\n",
      "/kaggle/input/64x64-faces/set_1/pic00042.jpg\n",
      "/kaggle/input/64x64-faces/set_1/pic00157.jpg\n",
      "/kaggle/input/64x64-faces/set_1/pic00073.jpg\n",
      "/kaggle/input/64x64-faces/set_1/pic00040.jpg\n",
      "/kaggle/input/64x64-faces/set_1/pic00008.jpg\n",
      "/kaggle/input/64x64-faces/set_1/pic00020.jpg\n",
      "/kaggle/input/64x64-faces/set_1/pic00093.jpg\n",
      "/kaggle/input/64x64-faces/set_1/pic00079.jpg\n",
      "/kaggle/input/64x64-faces/set_1/pic00016.jpg\n",
      "/kaggle/input/64x64-faces/set_1/pic00101.jpg\n",
      "/kaggle/input/64x64-faces/set_1/pic00058.jpg\n",
      "/kaggle/input/64x64-faces/set_1/pic00092.jpg\n",
      "/kaggle/input/64x64-faces/set_1/pic00037.jpg\n",
      "/kaggle/input/64x64-faces/set_1/pic00002.jpg\n",
      "/kaggle/input/64x64-faces/set_1/pic00032.jpg\n",
      "/kaggle/input/64x64-faces/set_1/pic00059.jpg\n",
      "/kaggle/input/64x64-faces/set_1/pic00005.jpg\n",
      "/kaggle/input/64x64-faces/set_1/pic00057.jpg\n",
      "/kaggle/input/64x64-faces/set_1/pic00026.jpg\n",
      "/kaggle/input/64x64-faces/set_1/pic00078.jpg\n",
      "/kaggle/input/64x64-faces/set_1/pic00001.jpg\n",
      "/kaggle/input/64x64-faces/set_1/pic00024.jpg\n",
      "/kaggle/input/64x64-faces/set_1/pic00103.jpg\n",
      "/kaggle/input/64x64-faces/set_1/pic00107.jpg\n",
      "/kaggle/input/64x64-faces/set_1/pic00034.jpg\n",
      "/kaggle/input/64x64-faces/set_1/pic00134.jpg\n",
      "/kaggle/input/64x64-faces/set_1/pic00033.jpg\n",
      "/kaggle/input/64x64-faces/set_1/pic00056.jpg\n",
      "/kaggle/input/64x64-faces/set_1/pic00152.jpg\n",
      "/kaggle/input/64x64-faces/set_1/pic00023.jpg\n",
      "/kaggle/input/64x64-faces/set_1/pic00080.jpg\n",
      "/kaggle/input/64x64-faces/set_1/pic00049.jpg\n",
      "/kaggle/input/64x64-faces/set_1/pic00043.jpg\n",
      "/kaggle/input/64x64-faces/set_1/pic00006.jpg\n",
      "/kaggle/input/64x64-faces/set_1/pic00111.jpg\n",
      "/kaggle/input/64x64-faces/set_1/pic00054.jpg\n",
      "/kaggle/input/64x64-faces/set_1/pic00095.jpg\n",
      "/kaggle/input/64x64-faces/set_1/pic00153.jpg\n",
      "/kaggle/input/64x64-faces/set_1/pic00097.jpg\n",
      "/kaggle/input/64x64-faces/set_1/pic00066.jpg\n",
      "/kaggle/input/64x64-faces/set_1/pic00081.jpg\n",
      "/kaggle/input/64x64-faces/set_1/pic00013.jpg\n",
      "/kaggle/input/64x64-faces/set_1/pic00128.jpg\n",
      "/kaggle/input/64x64-faces/set_1/pic00133.jpg\n",
      "/kaggle/input/64x64-faces/set_1/pic00100.jpg\n",
      "/kaggle/input/64x64-faces/set_1/pic00104.jpg\n",
      "/kaggle/input/64x64-faces/set_1/pic00110.jpg\n",
      "/kaggle/input/64x64-faces/set_1/pic00072.jpg\n",
      "/kaggle/input/64x64-faces/set_1/pic00124.jpg\n",
      "/kaggle/input/64x64-faces/set_1/pic00084.jpg\n",
      "/kaggle/input/64x64-faces/set_1/pic00083.jpg\n",
      "/kaggle/input/64x64-faces/set_1/pic00125.jpg\n",
      "/kaggle/input/64x64-faces/set_1/pic00068.jpg\n",
      "/kaggle/input/64x64-faces/set_1/pic00011.jpg\n",
      "/kaggle/input/64x64-faces/set_1/pic00055.jpg\n",
      "/kaggle/input/64x64-faces/set_1/pic00102.jpg\n",
      "/kaggle/input/64x64-faces/set_1/pic00019.jpg\n",
      "/kaggle/input/64x64-faces/set_1/pic00051.jpg\n",
      "/kaggle/input/64x64-faces/set_1/pic00007.jpg\n",
      "/kaggle/input/64x64-faces/set_1/pic00069.jpg\n",
      "/kaggle/input/64x64-faces/set_1/pic00138.jpg\n",
      "/kaggle/input/64x64-faces/set_1/pic00077.jpg\n",
      "/kaggle/input/64x64-faces/set_1/pic00112.jpg\n",
      "/kaggle/input/64x64-faces/set_1/pic00062.jpg\n",
      "/kaggle/input/64x64-faces/set_1/pic00018.jpg\n",
      "/kaggle/input/64x64-faces/set_1/pic00050.jpg\n",
      "/kaggle/input/64x64-faces/set_1/pic00136.jpg\n",
      "/kaggle/input/64x64-faces/set_1/pic00117.jpg\n",
      "/kaggle/input/64x64-faces/set_1/pic00126.jpg\n",
      "/kaggle/input/64x64-faces/set_1/pic00122.jpg\n",
      "/kaggle/input/64x64-faces/set_1/pic00044.jpg\n",
      "/kaggle/input/64x64-faces/set_1/pic00061.jpg\n",
      "/kaggle/input/64x64-faces/set_1/pic00088.jpg\n",
      "/kaggle/input/64x64-faces/set_1/pic00075.jpg\n",
      "/kaggle/input/64x64-faces/set_1/pic00012.jpg\n",
      "/kaggle/input/64x64-faces/set_1/pic00076.jpg\n",
      "/kaggle/input/64x64-faces/set_1/pic00135.jpg\n",
      "/kaggle/input/64x64-faces/set_1/pic00108.jpg\n",
      "/kaggle/input/64x64-faces/set_1/pic00010.jpg\n",
      "/kaggle/input/64x64-faces/set_1/pic00036.jpg\n",
      "/kaggle/input/64x64-faces/set_1/pic00099.jpg\n",
      "/kaggle/input/64x64-faces/set_1/pic00045.jpg\n",
      "/kaggle/input/64x64-faces/set_1/pic00147.jpg\n",
      "/kaggle/input/64x64-faces/set_1/pic00009.jpg\n",
      "/kaggle/input/64x64-faces/set_1/pic00154.jpg\n",
      "/kaggle/input/64x64-faces/set_1/pic00119.jpg\n",
      "/kaggle/input/64x64-faces/set_1/pic00067.jpg\n",
      "/kaggle/input/64x64-faces/set_1/pic00132.jpg\n",
      "/kaggle/input/64x64-faces/set_1/pic00123.jpg\n",
      "/kaggle/input/64x64-faces/set_1/pic00021.jpg\n",
      "/kaggle/input/64x64-faces/set_1/pic00127.jpg\n",
      "/kaggle/input/64x64-faces/set_1/pic00105.jpg\n",
      "/kaggle/input/64x64-faces/set_1/pic00048.jpg\n",
      "/kaggle/input/64x64-faces/set_1/pic00060.jpg\n",
      "/kaggle/input/64x64-faces/set_1/pic00113.jpg\n",
      "/kaggle/input/64x64-faces/set_1/pic00096.jpg\n",
      "/kaggle/input/64x64-faces/set_1/pic00150.jpg\n",
      "/kaggle/input/64x64-faces/set_1/pic00064.jpg\n",
      "/kaggle/input/64x64-faces/set_1/pic00121.jpg\n",
      "/kaggle/input/64x64-faces/set_1/pic00118.jpg\n"
     ]
    }
   ],
   "source": [
    "# This Python 3 environment comes with many helpful analytics libraries installed\n",
    "# It is defined by the kaggle/python Docker image: https://github.com/kaggle/docker-python\n",
    "# For example, here's several helpful packages to load\n",
    "\n",
    "import numpy as np # linear algebra\n",
    "import pandas as pd # data processing, CSV file I/O (e.g. pd.read_csv)\n",
    "\n",
    "# Input data files are available in the read-only \"../input/\" directory\n",
    "# For example, running this (by clicking run or pressing Shift+Enter) will list all files under the input directory\n",
    "\n",
    "import os\n",
    "for dirname, _, filenames in os.walk('/kaggle/input'):\n",
    "    for filename in filenames:\n",
    "        print(os.path.join(dirname, filename))\n",
    "\n",
    "# You can write up to 20GB to the current directory (/kaggle/working/) that gets preserved as output when you create a version using \"Save & Run All\" \n",
    "# You can also write temporary files to /kaggle/temp/, but they won't be saved outside of the current session"
   ]
  },
  {
   "cell_type": "code",
   "execution_count": 2,
   "id": "2e78067e",
   "metadata": {
    "execution": {
     "iopub.execute_input": "2023-10-07T09:04:50.085622Z",
     "iopub.status.busy": "2023-10-07T09:04:50.085120Z",
     "iopub.status.idle": "2023-10-07T09:04:50.089933Z",
     "shell.execute_reply": "2023-10-07T09:04:50.088814Z"
    },
    "papermill": {
     "duration": 0.013443,
     "end_time": "2023-10-07T09:04:50.092101",
     "exception": false,
     "start_time": "2023-10-07T09:04:50.078658",
     "status": "completed"
    },
    "tags": []
   },
   "outputs": [],
   "source": [
    "import matplotlib.pyplot as plt\n",
    "import glob\n",
    "from PIL import Image"
   ]
  },
  {
   "cell_type": "code",
   "execution_count": 3,
   "id": "65772163",
   "metadata": {
    "execution": {
     "iopub.execute_input": "2023-10-07T09:04:50.103024Z",
     "iopub.status.busy": "2023-10-07T09:04:50.102650Z",
     "iopub.status.idle": "2023-10-07T09:04:50.108143Z",
     "shell.execute_reply": "2023-10-07T09:04:50.107120Z"
    },
    "papermill": {
     "duration": 0.013375,
     "end_time": "2023-10-07T09:04:50.110190",
     "exception": false,
     "start_time": "2023-10-07T09:04:50.096815",
     "status": "completed"
    },
    "tags": []
   },
   "outputs": [],
   "source": [
    "image_files = glob.glob('/kaggle/input/64x64-faces/set_1/*.jpg')"
   ]
  },
  {
   "cell_type": "code",
   "execution_count": 4,
   "id": "5547fad1",
   "metadata": {
    "execution": {
     "iopub.execute_input": "2023-10-07T09:04:50.121366Z",
     "iopub.status.busy": "2023-10-07T09:04:50.121013Z",
     "iopub.status.idle": "2023-10-07T09:04:50.465239Z",
     "shell.execute_reply": "2023-10-07T09:04:50.463948Z"
    },
    "papermill": {
     "duration": 0.353003,
     "end_time": "2023-10-07T09:04:50.467936",
     "exception": false,
     "start_time": "2023-10-07T09:04:50.114933",
     "status": "completed"
    },
    "tags": []
   },
   "outputs": [],
   "source": [
    "images_list = []\n",
    "\n",
    "for file in image_files:\n",
    "    image = Image.open(file)\n",
    "    image = image.convert('L')\n",
    "    image_vector = np.array(image)\n",
    "    images_list.append(np.array([image_vector.T.ravel()]).T)"
   ]
  },
  {
   "cell_type": "code",
   "execution_count": 5,
   "id": "50da19d8",
   "metadata": {
    "execution": {
     "iopub.execute_input": "2023-10-07T09:04:50.478852Z",
     "iopub.status.busy": "2023-10-07T09:04:50.478518Z",
     "iopub.status.idle": "2023-10-07T09:04:50.486888Z",
     "shell.execute_reply": "2023-10-07T09:04:50.485747Z"
    },
    "papermill": {
     "duration": 0.016452,
     "end_time": "2023-10-07T09:04:50.489132",
     "exception": false,
     "start_time": "2023-10-07T09:04:50.472680",
     "status": "completed"
    },
    "tags": []
   },
   "outputs": [
    {
     "data": {
      "text/plain": [
       "(4096, 1)"
      ]
     },
     "execution_count": 5,
     "metadata": {},
     "output_type": "execute_result"
    }
   ],
   "source": [
    "images_list[0].shape"
   ]
  },
  {
   "cell_type": "code",
   "execution_count": 6,
   "id": "08149e76",
   "metadata": {
    "execution": {
     "iopub.execute_input": "2023-10-07T09:04:50.500776Z",
     "iopub.status.busy": "2023-10-07T09:04:50.500458Z",
     "iopub.status.idle": "2023-10-07T09:04:50.515515Z",
     "shell.execute_reply": "2023-10-07T09:04:50.514302Z"
    },
    "papermill": {
     "duration": 0.024103,
     "end_time": "2023-10-07T09:04:50.517963",
     "exception": false,
     "start_time": "2023-10-07T09:04:50.493860",
     "status": "completed"
    },
    "tags": []
   },
   "outputs": [],
   "source": [
    "images_matrix = np.column_stack(images_list)\n",
    "rows, columns = images_matrix.shape\n",
    "\n",
    "mean_array = np.zeros_like(images_list[0])\n",
    "for image in images_list:\n",
    "    mean_array += image\n",
    "\n",
    "mean_array = mean_array/columns\n",
    "mean_array_list = [mean_array for i in range(columns)]\n",
    "\n",
    "mean_matrix = np.column_stack(mean_array_list)"
   ]
  },
  {
   "cell_type": "code",
   "execution_count": 7,
   "id": "55a61b00",
   "metadata": {
    "execution": {
     "iopub.execute_input": "2023-10-07T09:04:50.529482Z",
     "iopub.status.busy": "2023-10-07T09:04:50.529138Z",
     "iopub.status.idle": "2023-10-07T09:04:50.666609Z",
     "shell.execute_reply": "2023-10-07T09:04:50.664778Z"
    },
    "papermill": {
     "duration": 0.147958,
     "end_time": "2023-10-07T09:04:50.671192",
     "exception": false,
     "start_time": "2023-10-07T09:04:50.523234",
     "status": "completed"
    },
    "tags": []
   },
   "outputs": [],
   "source": [
    "R = ((images_matrix - mean_matrix) @ (images_matrix - mean_matrix).T) / (columns-1)"
   ]
  },
  {
   "cell_type": "code",
   "execution_count": 8,
   "id": "f8f9b440",
   "metadata": {
    "execution": {
     "iopub.execute_input": "2023-10-07T09:04:50.705346Z",
     "iopub.status.busy": "2023-10-07T09:04:50.702812Z",
     "iopub.status.idle": "2023-10-07T09:05:45.581782Z",
     "shell.execute_reply": "2023-10-07T09:05:45.580612Z"
    },
    "papermill": {
     "duration": 54.89839,
     "end_time": "2023-10-07T09:05:45.584220",
     "exception": false,
     "start_time": "2023-10-07T09:04:50.685830",
     "status": "completed"
    },
    "tags": []
   },
   "outputs": [],
   "source": [
    "eigenvalues, eigenvectors = np.linalg.eig(R)"
   ]
  },
  {
   "cell_type": "code",
   "execution_count": 9,
   "id": "b16e7ccb",
   "metadata": {
    "execution": {
     "iopub.execute_input": "2023-10-07T09:05:45.595461Z",
     "iopub.status.busy": "2023-10-07T09:05:45.595103Z",
     "iopub.status.idle": "2023-10-07T09:05:45.600791Z",
     "shell.execute_reply": "2023-10-07T09:05:45.599891Z"
    },
    "papermill": {
     "duration": 0.01367,
     "end_time": "2023-10-07T09:05:45.602824",
     "exception": false,
     "start_time": "2023-10-07T09:05:45.589154",
     "status": "completed"
    },
    "tags": []
   },
   "outputs": [],
   "source": [
    "sorted_eigenvalues = eigenvalues.argsort()"
   ]
  },
  {
   "cell_type": "code",
   "execution_count": 10,
   "id": "3324038b",
   "metadata": {
    "execution": {
     "iopub.execute_input": "2023-10-07T09:05:45.613473Z",
     "iopub.status.busy": "2023-10-07T09:05:45.612870Z",
     "iopub.status.idle": "2023-10-07T09:05:45.617885Z",
     "shell.execute_reply": "2023-10-07T09:05:45.617215Z"
    },
    "papermill": {
     "duration": 0.012475,
     "end_time": "2023-10-07T09:05:45.619906",
     "exception": false,
     "start_time": "2023-10-07T09:05:45.607431",
     "status": "completed"
    },
    "tags": []
   },
   "outputs": [
    {
     "data": {
      "text/plain": [
       "(4096, 4096)"
      ]
     },
     "execution_count": 10,
     "metadata": {},
     "output_type": "execute_result"
    }
   ],
   "source": [
    "eigenvectors.shape"
   ]
  },
  {
   "cell_type": "code",
   "execution_count": 11,
   "id": "adfa62ad",
   "metadata": {
    "execution": {
     "iopub.execute_input": "2023-10-07T09:05:45.631114Z",
     "iopub.status.busy": "2023-10-07T09:05:45.630780Z",
     "iopub.status.idle": "2023-10-07T09:05:45.636274Z",
     "shell.execute_reply": "2023-10-07T09:05:45.635269Z"
    },
    "papermill": {
     "duration": 0.013553,
     "end_time": "2023-10-07T09:05:45.638352",
     "exception": false,
     "start_time": "2023-10-07T09:05:45.624799",
     "status": "completed"
    },
    "tags": []
   },
   "outputs": [],
   "source": [
    "p = 100\n",
    "\n",
    "vectorList = []\n",
    "\n",
    "for i  in range(p):\n",
    "    vector = eigenvectors[:, sorted_eigenvalues[i]]\n",
    "    vectorList.append(vector)"
   ]
  },
  {
   "cell_type": "code",
   "execution_count": 12,
   "id": "02411c25",
   "metadata": {
    "execution": {
     "iopub.execute_input": "2023-10-07T09:05:45.650163Z",
     "iopub.status.busy": "2023-10-07T09:05:45.649073Z",
     "iopub.status.idle": "2023-10-07T09:05:45.665235Z",
     "shell.execute_reply": "2023-10-07T09:05:45.663993Z"
    },
    "papermill": {
     "duration": 0.024523,
     "end_time": "2023-10-07T09:05:45.667696",
     "exception": false,
     "start_time": "2023-10-07T09:05:45.643173",
     "status": "completed"
    },
    "tags": []
   },
   "outputs": [],
   "source": [
    "V = np.column_stack(vectorList)"
   ]
  },
  {
   "cell_type": "code",
   "execution_count": 13,
   "id": "e8280aa7",
   "metadata": {
    "execution": {
     "iopub.execute_input": "2023-10-07T09:05:45.679750Z",
     "iopub.status.busy": "2023-10-07T09:05:45.678673Z",
     "iopub.status.idle": "2023-10-07T09:05:45.687099Z",
     "shell.execute_reply": "2023-10-07T09:05:45.686361Z"
    },
    "papermill": {
     "duration": 0.016603,
     "end_time": "2023-10-07T09:05:45.689245",
     "exception": false,
     "start_time": "2023-10-07T09:05:45.672642",
     "status": "completed"
    },
    "tags": []
   },
   "outputs": [],
   "source": [
    "sub_matrix = images_matrix - mean_matrix"
   ]
  },
  {
   "cell_type": "code",
   "execution_count": 14,
   "id": "2b8afc3d",
   "metadata": {
    "execution": {
     "iopub.execute_input": "2023-10-07T09:05:45.700644Z",
     "iopub.status.busy": "2023-10-07T09:05:45.699942Z",
     "iopub.status.idle": "2023-10-07T09:05:45.746938Z",
     "shell.execute_reply": "2023-10-07T09:05:45.745499Z"
    },
    "papermill": {
     "duration": 0.056906,
     "end_time": "2023-10-07T09:05:45.750914",
     "exception": false,
     "start_time": "2023-10-07T09:05:45.694008",
     "status": "completed"
    },
    "tags": []
   },
   "outputs": [],
   "source": [
    "weight_list = []\n",
    "for i in range(sub_matrix.shape[1]):\n",
    "    weight = V.T @ sub_matrix[:,i]\n",
    "    weight_list.append(weight)"
   ]
  },
  {
   "cell_type": "code",
   "execution_count": 15,
   "id": "eada9bf0",
   "metadata": {
    "execution": {
     "iopub.execute_input": "2023-10-07T09:05:45.781409Z",
     "iopub.status.busy": "2023-10-07T09:05:45.780812Z",
     "iopub.status.idle": "2023-10-07T09:05:45.798850Z",
     "shell.execute_reply": "2023-10-07T09:05:45.797742Z"
    },
    "papermill": {
     "duration": 0.036626,
     "end_time": "2023-10-07T09:05:45.802274",
     "exception": false,
     "start_time": "2023-10-07T09:05:45.765648",
     "status": "completed"
    },
    "tags": []
   },
   "outputs": [
    {
     "data": {
      "image/png": "[encoded data removed]",
      "text/plain": [
       "<PIL.Image.Image image mode=L size=64x64>"
      ]
     },
     "execution_count": 15,
     "metadata": {},
     "output_type": "execute_result"
    }
   ],
   "source": [
    "image = Image.open('/kaggle/input/64x64-faces/set_1/pic00029.jpg')\n",
    "image = image.convert('L')\n",
    "image_vector = np.array(image)\n",
    "image_vector = np.array([image_vector.T.ravel()]).T\n",
    "image"
   ]
  },
  {
   "cell_type": "code",
   "execution_count": 16,
   "id": "a918d362",
   "metadata": {
    "execution": {
     "iopub.execute_input": "2023-10-07T09:05:45.832130Z",
     "iopub.status.busy": "2023-10-07T09:05:45.831510Z",
     "iopub.status.idle": "2023-10-07T09:05:45.838448Z",
     "shell.execute_reply": "2023-10-07T09:05:45.837390Z"
    },
    "papermill": {
     "duration": 0.025509,
     "end_time": "2023-10-07T09:05:45.841531",
     "exception": false,
     "start_time": "2023-10-07T09:05:45.816022",
     "status": "completed"
    },
    "tags": []
   },
   "outputs": [],
   "source": [
    "new_weight = V.T @ image_vector"
   ]
  },
  {
   "cell_type": "code",
   "execution_count": 17,
   "id": "547f8d28",
   "metadata": {
    "execution": {
     "iopub.execute_input": "2023-10-07T09:05:45.871077Z",
     "iopub.status.busy": "2023-10-07T09:05:45.870497Z",
     "iopub.status.idle": "2023-10-07T09:05:45.888465Z",
     "shell.execute_reply": "2023-10-07T09:05:45.886892Z"
    },
    "papermill": {
     "duration": 0.036926,
     "end_time": "2023-10-07T09:05:45.892052",
     "exception": false,
     "start_time": "2023-10-07T09:05:45.855126",
     "status": "completed"
    },
    "tags": []
   },
   "outputs": [],
   "source": [
    "distance_list = []\n",
    "\n",
    "for weight in weight_list:\n",
    "    distance = np.linalg.norm(new_weight - weight)\n",
    "    distance_list.append(distance)"
   ]
  },
  {
   "cell_type": "code",
   "execution_count": 18,
   "id": "ca10d79c",
   "metadata": {
    "execution": {
     "iopub.execute_input": "2023-10-07T09:05:45.929377Z",
     "iopub.status.busy": "2023-10-07T09:05:45.928653Z",
     "iopub.status.idle": "2023-10-07T09:05:45.936252Z",
     "shell.execute_reply": "2023-10-07T09:05:45.935124Z"
    },
    "papermill": {
     "duration": 0.033733,
     "end_time": "2023-10-07T09:05:45.939476",
     "exception": false,
     "start_time": "2023-10-07T09:05:45.905743",
     "status": "completed"
    },
    "tags": []
   },
   "outputs": [],
   "source": [
    "distance_vector = np.array(distance_list)\n",
    "top = distance_vector.argsort()[:10]"
   ]
  },
  {
   "cell_type": "code",
   "execution_count": 19,
   "id": "9e04e16f",
   "metadata": {
    "execution": {
     "iopub.execute_input": "2023-10-07T09:05:45.963721Z",
     "iopub.status.busy": "2023-10-07T09:05:45.963366Z",
     "iopub.status.idle": "2023-10-07T09:05:45.976586Z",
     "shell.execute_reply": "2023-10-07T09:05:45.975335Z"
    },
    "papermill": {
     "duration": 0.021988,
     "end_time": "2023-10-07T09:05:45.979092",
     "exception": false,
     "start_time": "2023-10-07T09:05:45.957104",
     "status": "completed"
    },
    "tags": []
   },
   "outputs": [],
   "source": [
    "display_list = []\n",
    "for t in top:\n",
    "    image = Image.open(image_files[t])\n",
    "    image = image.convert('L')\n",
    "    display_list.append(image)"
   ]
  },
  {
   "cell_type": "code",
   "execution_count": 20,
   "id": "28388a56",
   "metadata": {
    "execution": {
     "iopub.execute_input": "2023-10-07T09:05:45.990846Z",
     "iopub.status.busy": "2023-10-07T09:05:45.990503Z",
     "iopub.status.idle": "2023-10-07T09:05:45.997419Z",
     "shell.execute_reply": "2023-10-07T09:05:45.996440Z"
    },
    "papermill": {
     "duration": 0.014857,
     "end_time": "2023-10-07T09:05:45.999299",
     "exception": false,
     "start_time": "2023-10-07T09:05:45.984442",
     "status": "completed"
    },
    "tags": []
   },
   "outputs": [
    {
     "data": {
      "image/png": "[encoded data removed]",
      "text/plain": [
       "<PIL.Image.Image image mode=L size=64x64>"
      ]
     },
     "execution_count": 20,
     "metadata": {},
     "output_type": "execute_result"
    }
   ],
   "source": [
    "display_list[0]"
   ]
  },
  {
   "cell_type": "code",
   "execution_count": null,
   "id": "37c321c1",
   "metadata": {
    "papermill": {
     "duration": 0.00456,
     "end_time": "2023-10-07T09:05:46.008873",
     "exception": false,
     "start_time": "2023-10-07T09:05:46.004313",
     "status": "completed"
    },
    "tags": []
   },
   "outputs": [],
   "source": []
  }
 ],
 "metadata": {
  "kernelspec": {
   "display_name": "Python 3",
   "language": "python",
   "name": "python3"
  },
  "language_info": {
   "codemirror_mode": {
    "name": "ipython",
    "version": 3
   },
   "file_extension": ".py",
   "mimetype": "text/x-python",
   "name": "python",
   "nbconvert_exporter": "python",
   "pygments_lexer": "ipython3",
   "version": "3.10.12"
  },
  "papermill": {
   "default_parameters": {},
   "duration": 60.171509,
   "end_time": "2023-10-07T09:05:46.533342",
   "environment_variables": {},
   "exception": null,
   "input_path": "__notebook__.ipynb",
   "output_path": "__notebook__.ipynb",
   "parameters": {},
   "start_time": "2023-10-07T09:04:46.361833",
   "version": "2.4.0"
  }
 },
 "nbformat": 4,
 "nbformat_minor": 5
}
