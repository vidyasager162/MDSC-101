{
 "cells": [
  {
   "cell_type": "markdown",
   "metadata": {},
   "source": [
    "## MDSC-101\n",
    "### Applied Linear Algebra\n",
    "#### Assignment - II"
   ]
  },
  {
   "cell_type": "markdown",
   "metadata": {},
   "source": [
    "Finding the determinant of a Square Matrix"
   ]
  },
  {
   "cell_type": "code",
   "execution_count": 21,
   "metadata": {},
   "outputs": [],
   "source": [
    "mat_a = []\n",
    "det_a = 0\n",
    "cof_mat = []\n",
    "inv_mat = []\n"
   ]
  },
  {
   "cell_type": "code",
   "execution_count": 22,
   "metadata": {},
   "outputs": [],
   "source": [
    "r = int(input(\"Enter the dimension of the matrix(Eg: 3): \"))\n",
    "for i in range(0,r):\n",
    "    row = []\n",
    "    mat_a.append(row)\n",
    "    for j in range(0,r):\n",
    "        row.append(int(input(f\"Enter Element {i}{j}: \")))\n"
   ]
  },
  {
   "cell_type": "code",
   "execution_count": 23,
   "metadata": {},
   "outputs": [
    {
     "name": "stdout",
     "output_type": "stream",
     "text": [
      "Matrix A\n",
      "[[1, 1, 3], [5, 6, 78], [4, 5, 6]]\n"
     ]
    }
   ],
   "source": [
    "print(\"Matrix A\")\n",
    "print(mat_a)"
   ]
  },
  {
   "cell_type": "code",
   "execution_count": 24,
   "metadata": {},
   "outputs": [],
   "source": [
    "def findSubMatrix(mat, d, x, y):\n",
    "    temp_mat = []\n",
    "    for i in range(0,d):\n",
    "        row = []\n",
    "        if i == x:\n",
    "            continue\n",
    "        for j in range(0,d):\n",
    "            if j == y:\n",
    "                continue\n",
    "            row.append(mat[i][j])\n",
    "        temp_mat.append(row)\n",
    "    return temp_mat"
   ]
  },
  {
   "cell_type": "code",
   "execution_count": 25,
   "metadata": {},
   "outputs": [],
   "source": [
    "def findDeterminant(mat, r):\n",
    "    det = 0\n",
    "    if r == 1:\n",
    "        return mat[0]\n",
    "    elif r == 2:\n",
    "        return mat[0][0] * mat[1][1] - mat[0][1] * mat[1][0]\n",
    "    else:\n",
    "        for i in range(0,r):\n",
    "            det = det + ((-1)**i * mat[0][i] * findDeterminant(findSubMatrix(mat,r,0,i), r-1))\n",
    "        return det\n"
   ]
  },
  {
   "cell_type": "code",
   "execution_count": 26,
   "metadata": {},
   "outputs": [
    {
     "data": {
      "text/plain": [
       "-69"
      ]
     },
     "execution_count": 26,
     "metadata": {},
     "output_type": "execute_result"
    }
   ],
   "source": [
    "det_a = findDeterminant(mat_a, r)\n",
    "det_a"
   ]
  },
  {
   "cell_type": "code",
   "execution_count": 27,
   "metadata": {},
   "outputs": [],
   "source": [
    "def findCofactor(mat, r):\n",
    "    cofactorMatrix = []\n",
    "    if r == 1:\n",
    "        return mat[0]\n",
    "    for x in range(0,r):\n",
    "        row = []\n",
    "        for y in range(0,r):\n",
    "            subMatrix = findSubMatrix(mat,r,x,y)\n",
    "            det = findDeterminant(subMatrix,len(subMatrix))\n",
    "            row.append(((-1)**(i+j))*det)\n",
    "        cofactorMatrix.append(row)\n",
    "    return cofactorMatrix"
   ]
  },
  {
   "cell_type": "code",
   "execution_count": 28,
   "metadata": {},
   "outputs": [
    {
     "data": {
      "text/plain": [
       "[[-354, -282, 1], [-9, -6, 1], [60, 63, 1]]"
      ]
     },
     "execution_count": 28,
     "metadata": {},
     "output_type": "execute_result"
    }
   ],
   "source": [
    "cof_mat = findCofactor(mat_a,r)\n",
    "cof_mat"
   ]
  },
  {
   "cell_type": "code",
   "execution_count": 29,
   "metadata": {},
   "outputs": [],
   "source": [
    "def findInverse(cof_mat,det_a):\n",
    "    inverseMatrix = []\n",
    "    for x in range(len(cof_mat)):\n",
    "        row = []\n",
    "        for y in range(len(cof_mat)):\n",
    "            row.append((1/det_a) * cof_mat[y][x])\n",
    "        inverseMatrix.append(row)\n",
    "    return inverseMatrix"
   ]
  },
  {
   "cell_type": "code",
   "execution_count": 30,
   "metadata": {},
   "outputs": [
    {
     "data": {
      "text/plain": [
       "[[5.130434782608695, 0.13043478260869565, -0.8695652173913043],\n",
       " [4.086956521739131, 0.08695652173913043, -0.9130434782608696],\n",
       " [-0.014492753623188406, -0.014492753623188406, -0.014492753623188406]]"
      ]
     },
     "execution_count": 30,
     "metadata": {},
     "output_type": "execute_result"
    }
   ],
   "source": [
    "inv_mat = findInverse(cof_mat,det_a)\n",
    "inv_mat"
   ]
  },
  {
   "cell_type": "code",
   "execution_count": null,
   "metadata": {},
   "outputs": [],
   "source": []
  }
 ],
 "metadata": {
  "kernelspec": {
   "display_name": "base",
   "language": "python",
   "name": "python3"
  },
  "language_info": {
   "codemirror_mode": {
    "name": "ipython",
    "version": 3
   },
   "file_extension": ".py",
   "mimetype": "text/x-python",
   "name": "python",
   "nbconvert_exporter": "python",
   "pygments_lexer": "ipython3",
   "version": "3.10.9"
  },
  "orig_nbformat": 4
 },
 "nbformat": 4,
 "nbformat_minor": 2
}
