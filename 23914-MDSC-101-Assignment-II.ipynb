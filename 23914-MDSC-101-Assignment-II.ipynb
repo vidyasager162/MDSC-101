{
 "cells": [
  {
   "cell_type": "markdown",
   "metadata": {},
   "source": [
    "## MDSC-101\n",
    "### Applied Linear Algebra\n",
    "#### Assignment - II"
   ]
  },
  {
   "cell_type": "markdown",
   "metadata": {},
   "source": [
    "Finding the determinant of a Square Matrix"
   ]
  },
  {
   "cell_type": "code",
   "execution_count": 19,
   "metadata": {},
   "outputs": [],
   "source": [
    "mat_a = []\n",
    "det_a = 0\n",
    "cof_mat = []\n",
    "inv_mat = []\n"
   ]
  },
  {
   "cell_type": "code",
   "execution_count": 20,
   "metadata": {},
   "outputs": [],
   "source": [
    "r = int(input(\"Enter the dimension of the matrix(Eg: 3): \"))\n",
    "for i in range(0,r):\n",
    "    row = []\n",
    "    mat_a.append(row)\n",
    "    for j in range(0,r):\n",
    "        row.append(int(input(f\"Enter Element {i}{j}: \")))\n"
   ]
  },
  {
   "cell_type": "code",
   "execution_count": 21,
   "metadata": {},
   "outputs": [
    {
     "name": "stdout",
     "output_type": "stream",
     "text": [
      "Matrix A\n",
      "[[1, 2, 3], [4, 5, 6], [7, 8, 9]]\n"
     ]
    }
   ],
   "source": [
    "print(\"Matrix A\")\n",
    "print(mat_a)"
   ]
  },
  {
   "cell_type": "code",
   "execution_count": 22,
   "metadata": {},
   "outputs": [],
   "source": [
    "def findSubMatrix(mat, d, x, y):\n",
    "    temp_mat = []\n",
    "    for i in range(0,d):\n",
    "        row = []\n",
    "        if i == x:\n",
    "            continue\n",
    "        for j in range(0,d):\n",
    "            if j == y:\n",
    "                continue\n",
    "            row.append(mat[i][j])\n",
    "        temp_mat.append(row)\n",
    "    return temp_mat"
   ]
  },
  {
   "cell_type": "code",
   "execution_count": 23,
   "metadata": {},
   "outputs": [],
   "source": [
    "def findDeterminant(mat, r):\n",
    "    det = 0\n",
    "    if r == 1:\n",
    "        return mat[0]\n",
    "    elif r == 2:\n",
    "        return mat[0][0] * mat[1][1] - mat[0][1] * mat[1][0]\n",
    "    else:\n",
    "        for i in range(0,r):\n",
    "            det = det + ((-1)**i * mat[0][i] * findDeterminant(findSubMatrix(mat,r,0,i), r-1))\n",
    "        return det\n"
   ]
  },
  {
   "cell_type": "code",
   "execution_count": 24,
   "metadata": {},
   "outputs": [
    {
     "data": {
      "text/plain": [
       "0"
      ]
     },
     "execution_count": 24,
     "metadata": {},
     "output_type": "execute_result"
    }
   ],
   "source": [
    "det_a = findDeterminant(mat_a, r)\n",
    "det_a"
   ]
  },
  {
   "cell_type": "code",
   "execution_count": 25,
   "metadata": {},
   "outputs": [],
   "source": [
    "def findCofactor(mat, r):\n",
    "    cofactorMatrix = []\n",
    "    if r == 1:\n",
    "        return mat[0]\n",
    "    for x in range(0,r):\n",
    "        row = []\n",
    "        for y in range(0,r):\n",
    "            subMatrix = findSubMatrix(mat,r,x,y)\n",
    "            det = findDeterminant(subMatrix,len(subMatrix))\n",
    "            row.append(((-1)**(i+j))*det)\n",
    "        cofactorMatrix.append(row)\n",
    "    return cofactorMatrix"
   ]
  },
  {
   "cell_type": "code",
   "execution_count": 26,
   "metadata": {},
   "outputs": [
    {
     "data": {
      "text/plain": [
       "[[-3, -6, -3], [-6, -12, -6], [-3, -6, -3]]"
      ]
     },
     "execution_count": 26,
     "metadata": {},
     "output_type": "execute_result"
    }
   ],
   "source": [
    "cof_mat = findCofactor(mat_a,r)\n",
    "cof_mat"
   ]
  },
  {
   "cell_type": "code",
   "execution_count": 27,
   "metadata": {},
   "outputs": [],
   "source": [
    "def findInverse(cof_mat,det_a):\n",
    "    inverseMatrix = []\n",
    "    for x in range(len(cof_mat)):\n",
    "        row = []\n",
    "        for y in range(len(cof_mat)):\n",
    "            row.append((1/det_a) * cof_mat[y][x])\n",
    "        inverseMatrix.append(row)\n",
    "    return inverseMatrix"
   ]
  },
  {
   "cell_type": "code",
   "execution_count": 28,
   "metadata": {},
   "outputs": [
    {
     "ename": "ZeroDivisionError",
     "evalue": "division by zero",
     "output_type": "error",
     "traceback": [
      "\u001b[1;31m---------------------------------------------------------------------------\u001b[0m",
      "\u001b[1;31mZeroDivisionError\u001b[0m                         Traceback (most recent call last)",
      "Cell \u001b[1;32mIn[28], line 1\u001b[0m\n\u001b[1;32m----> 1\u001b[0m inv_mat \u001b[39m=\u001b[39m findInverse(cof_mat,det_a)\n\u001b[0;32m      2\u001b[0m inv_mat\n",
      "Cell \u001b[1;32mIn[27], line 6\u001b[0m, in \u001b[0;36mfindInverse\u001b[1;34m(cof_mat, det_a)\u001b[0m\n\u001b[0;32m      4\u001b[0m     row \u001b[39m=\u001b[39m []\n\u001b[0;32m      5\u001b[0m     \u001b[39mfor\u001b[39;00m y \u001b[39min\u001b[39;00m \u001b[39mrange\u001b[39m(\u001b[39mlen\u001b[39m(cof_mat)):\n\u001b[1;32m----> 6\u001b[0m         row\u001b[39m.\u001b[39mappend((\u001b[39m1\u001b[39;49m\u001b[39m/\u001b[39;49mdet_a) \u001b[39m*\u001b[39m cof_mat[y][x])\n\u001b[0;32m      7\u001b[0m     inverseMatrix\u001b[39m.\u001b[39mappend(row)\n\u001b[0;32m      8\u001b[0m \u001b[39mreturn\u001b[39;00m inverseMatrix\n",
      "\u001b[1;31mZeroDivisionError\u001b[0m: division by zero"
     ]
    }
   ],
   "source": [
    "inv_mat = findInverse(cof_mat,det_a)\n",
    "inv_mat"
   ]
  },
  {
   "cell_type": "code",
   "execution_count": null,
   "metadata": {},
   "outputs": [],
   "source": []
  }
 ],
 "metadata": {
  "kernelspec": {
   "display_name": "base",
   "language": "python",
   "name": "python3"
  },
  "language_info": {
   "codemirror_mode": {
    "name": "ipython",
    "version": 3
   },
   "file_extension": ".py",
   "mimetype": "text/x-python",
   "name": "python",
   "nbconvert_exporter": "python",
   "pygments_lexer": "ipython3",
   "version": "3.10.9"
  },
  "orig_nbformat": 4
 },
 "nbformat": 4,
 "nbformat_minor": 2
}
