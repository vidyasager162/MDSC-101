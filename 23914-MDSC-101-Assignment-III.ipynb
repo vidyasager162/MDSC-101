{
 "cells": [
  {
   "cell_type": "markdown",
   "metadata": {},
   "source": [
    "# MDSC-101\n",
    "## Applied Linear Algebra\n",
    "### Assignment-III\n"
   ]
  },
  {
   "cell_type": "markdown",
   "metadata": {},
   "source": [
    "Gaussian Elimination"
   ]
  },
  {
   "cell_type": "code",
   "execution_count": 1,
   "metadata": {},
   "outputs": [],
   "source": [
    "import sys"
   ]
  },
  {
   "cell_type": "code",
   "execution_count": 6,
   "metadata": {},
   "outputs": [],
   "source": [
    "def CreateMatrix(n):\n",
    "\tif n <= 0:\n",
    "\t\tprint('Invalid Input')\n",
    "\t\tsys.exit()\n",
    "\tmat = []\n",
    "\tfor i in range(0,n):\n",
    "\t\ttemp = list(map(int,input('Enter co-efficients and constant of eqn {} : '.format(i)).split()))\n",
    "\t\tmat.append(temp)\n",
    "\treturn mat"
   ]
  },
  {
   "cell_type": "code",
   "execution_count": 7,
   "metadata": {},
   "outputs": [],
   "source": [
    "def Reduce(x,y,index):\n",
    "\talpha = y[index]/x[index]\n",
    "\tfor i in range(len(x)):\n",
    "\t\ty[i] = y[i] - (alpha*x[i])\n",
    "\treturn y"
   ]
  },
  {
   "cell_type": "code",
   "execution_count": 12,
   "metadata": {},
   "outputs": [
    {
     "data": {
      "text/plain": [
       "[[1], [2], [3]]"
      ]
     },
     "execution_count": 12,
     "metadata": {},
     "output_type": "execute_result"
    }
   ],
   "source": [
    "n = int(input('Enter the no.of variables and eqns'))\n",
    "mat = CreateMatrix(n)\n",
    "mat"
   ]
  },
  {
   "cell_type": "code",
   "execution_count": 13,
   "metadata": {},
   "outputs": [],
   "source": [
    "def CheckPivot(m,i):\n",
    "\ttemp = i\n",
    "\twhile m[temp][i] == 0.0 and temp < (len(m)-1):\n",
    "\t\tprint(temp)\n",
    "\t\ttemp = temp + 1\n",
    "\tif m[temp][i] != 0.0:\n",
    "\t\ttemp_row = m[i]\n",
    "\t\tm[i] = m[temp]\n",
    "\t\tm[temp] = temp_row \n",
    "\treturn m"
   ]
  },
  {
   "cell_type": "code",
   "execution_count": 14,
   "metadata": {},
   "outputs": [
    {
     "ename": "IndexError",
     "evalue": "list index out of range",
     "output_type": "error",
     "traceback": [
      "\u001b[1;31m---------------------------------------------------------------------------\u001b[0m",
      "\u001b[1;31mIndexError\u001b[0m                                Traceback (most recent call last)",
      "Cell \u001b[1;32mIn[14], line 5\u001b[0m\n\u001b[0;32m      2\u001b[0m agu_rank \u001b[39m=\u001b[39m \u001b[39m0\u001b[39m\n\u001b[0;32m      4\u001b[0m \u001b[39mwhile\u001b[39;00m j \u001b[39m<\u001b[39m \u001b[39mlen\u001b[39m(mat):\n\u001b[1;32m----> 5\u001b[0m \tmat \u001b[39m=\u001b[39m CheckPivot(mat,j)\n\u001b[0;32m      6\u001b[0m \t\u001b[39mif\u001b[39;00m mat[j][j] \u001b[39m!=\u001b[39m \u001b[39m0.0\u001b[39m:\n\u001b[0;32m      7\u001b[0m \t\tagu_rank \u001b[39m+\u001b[39m\u001b[39m=\u001b[39m \u001b[39m1\u001b[39m\n",
      "Cell \u001b[1;32mIn[13], line 3\u001b[0m, in \u001b[0;36mCheckPivot\u001b[1;34m(m, i)\u001b[0m\n\u001b[0;32m      1\u001b[0m \u001b[39mdef\u001b[39;00m \u001b[39mCheckPivot\u001b[39m(m,i):\n\u001b[0;32m      2\u001b[0m \ttemp \u001b[39m=\u001b[39m i\n\u001b[1;32m----> 3\u001b[0m \t\u001b[39mwhile\u001b[39;00m m[temp][i] \u001b[39m==\u001b[39m \u001b[39m0.0\u001b[39m \u001b[39mand\u001b[39;00m temp \u001b[39m<\u001b[39m (\u001b[39mlen\u001b[39m(m)\u001b[39m-\u001b[39m\u001b[39m1\u001b[39m):\n\u001b[0;32m      4\u001b[0m \t\t\u001b[39mprint\u001b[39m(temp)\n\u001b[0;32m      5\u001b[0m \t\ttemp \u001b[39m=\u001b[39m temp \u001b[39m+\u001b[39m \u001b[39m1\u001b[39m\n",
      "\u001b[1;31mIndexError\u001b[0m: list index out of range"
     ]
    }
   ],
   "source": [
    "j = 0\n",
    "agu_rank = 0\n",
    "\n",
    "while j < len(mat):\n",
    "\tmat = CheckPivot(mat,j)\n",
    "\tif mat[j][j] != 0.0:\n",
    "\t\tagu_rank += 1\n",
    "\t\tfor i in range(j+1,len(mat)):\n",
    "\t\t\tmat[i] = Reduce(mat[j],mat[i],j)\n",
    "\tj = j+1\n",
    "\t\n",
    "print('rank of the agumented matrix is',agu_rank)\n",
    "print('reduced matrix is',mat)\n",
    "\n",
    "cfm = mat\n",
    "rank = 0\n",
    "i = 0\n",
    "cofs = []\n",
    "\n",
    "for i in range(len(cfm)):\n",
    "\tcofs.append(cfm[i].pop())\n",
    "\t# print(i)\n",
    "\tif cfm[i][i] != 0.0:\n",
    "\t\trank = rank + 1\n",
    "\n",
    "print('Rank of co-efficient matrix is ',rank)\n",
    "#print('cofs is',cofs)\n",
    "\n",
    "if rank == agu_rank and rank < n:\n",
    "\tprint('The system has infinitely many solutions')\n",
    "\n",
    "elif rank < agu_rank:\n",
    "\tprint('The system is inconsistent')\n",
    "\n",
    "else:\n",
    "\n",
    "\tdef evaluate(cf,vals,index,rhs):\n",
    "\n",
    "\t\tprint(cf,vals,rhs)\n",
    "\t\tfactor = 0\n",
    "\t\tfor i in range(index+1,len(cf)):\n",
    "\t\t\tfactor = factor + cf[i]*vals[i]\n",
    "\n",
    "\t\tans = (rhs-factor)/cf[index]\n",
    "\t\tprint(ans)\n",
    "\t\treturn ans\n",
    "\n",
    "\tsoln = [ 0 for i in range(len(cfm))]\n",
    "\n",
    "\tfor j in range(len(cfm)-1,-1,-1):\n",
    "\n",
    "\t\tcf = cfm[j]\n",
    "\t\tsoln[j] = evaluate(cf,soln,j,cofs[j])\n",
    "\t\ti = i+1\n",
    "\n",
    "\n",
    "\tprint('The solution of given system is ',soln)"
   ]
  },
  {
   "cell_type": "code",
   "execution_count": null,
   "metadata": {},
   "outputs": [],
   "source": []
  }
 ],
 "metadata": {
  "kernelspec": {
   "display_name": "base",
   "language": "python",
   "name": "python3"
  },
  "language_info": {
   "codemirror_mode": {
    "name": "ipython",
    "version": 3
   },
   "file_extension": ".py",
   "mimetype": "text/x-python",
   "name": "python",
   "nbconvert_exporter": "python",
   "pygments_lexer": "ipython3",
   "version": "3.10.9"
  },
  "orig_nbformat": 4
 },
 "nbformat": 4,
 "nbformat_minor": 2
}
