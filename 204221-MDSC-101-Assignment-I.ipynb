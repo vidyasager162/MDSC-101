{
 "cells": [
  {
   "cell_type": "markdown",
   "metadata": {},
   "source": [
    "## MDSC-101\n",
    "### Applied Linear Algebra\n",
    "#### Assignment - I"
   ]
  },
  {
   "cell_type": "markdown",
   "metadata": {},
   "source": [
    "In this course we will be working with Vectors and Matrices. So this notebook is used to practice and recaptulate the techniques or operations performed on a matrix or vector. "
   ]
  },
  {
   "cell_type": "markdown",
   "metadata": {},
   "source": [
    "We start with Matrix Addition and Subtraction"
   ]
  },
  {
   "cell_type": "code",
   "execution_count": 30,
   "metadata": {},
   "outputs": [],
   "source": [
    "#Declaring variables\n",
    "mat_a = []\n",
    "mat_b = []\n",
    "mat_c = []\n",
    "mat_sum = []\n",
    "mat_diff = []"
   ]
  },
  {
   "cell_type": "code",
   "execution_count": 25,
   "metadata": {},
   "outputs": [
    {
     "name": "stdout",
     "output_type": "stream",
     "text": [
      "Matrix A\n",
      "Matrix B\n"
     ]
    }
   ],
   "source": [
    "#Getting the dimensions of the matrices\n",
    "r = int(input(\"Enter the Row Count: \"))\n",
    "c = int(input(\"Enter the Column Count: \"))\n",
    "\n",
    "#Initializing the Sum and Difference matrices with 0s\n",
    "for x in range(0, r):\n",
    "    row1 = []\n",
    "    row2 = []\n",
    "    mat_sum.append(row1)\n",
    "    mat_diff.append(row2)\n",
    "    for y in range(0, c):\n",
    "        row1.append(0)\n",
    "        row2.append(0)\n",
    "\n",
    "#Getting the values of Matrix A\n",
    "print(\"Matrix A\")\n",
    "for x in range(0, r):\n",
    "    row = []\n",
    "    mat_a.append(row)\n",
    "    for y in  range(0, c):\n",
    "        row.append(int(input(f\"Enter Element {x}{y}: \")))\n",
    "\n",
    "#Getting the values of Matrix B\n",
    "print(\"Matrix B\")\n",
    "for x in range(0, r):\n",
    "    row = []\n",
    "    mat_b.append(row)\n",
    "    for y in  range(0, c):\n",
    "        row.append(int(input(f\"Enter Element {x}{y}: \")))"
   ]
  },
  {
   "cell_type": "code",
   "execution_count": 26,
   "metadata": {},
   "outputs": [
    {
     "name": "stdout",
     "output_type": "stream",
     "text": [
      "\n",
      "Matrix A\n",
      "[[1, 2], [3, 4]]\n",
      "\n",
      "Matrix B\n",
      "[[1, 2], [3, 4]]\n"
     ]
    }
   ],
   "source": [
    "#Printing the Matrices\n",
    "print(\"\\nMatrix A\")\n",
    "print(mat_a)\n",
    "print(\"\\nMatrix B\")\n",
    "print(mat_b)"
   ]
  },
  {
   "cell_type": "code",
   "execution_count": 27,
   "metadata": {},
   "outputs": [],
   "source": [
    "#Calculating the Sum and Difference of the Two Arrays\n",
    "for x in range(0,r):\n",
    "    for y in range(0,c):\n",
    "        mat_sum[x][y] = mat_a[x][y] + mat_b[x][y]\n",
    "        mat_diff[x][y] = mat_a[x][y] - mat_b[x][y]"
   ]
  },
  {
   "cell_type": "code",
   "execution_count": 28,
   "metadata": {},
   "outputs": [
    {
     "name": "stdout",
     "output_type": "stream",
     "text": [
      "\n",
      "The sum of the two matrices is:\n",
      "[[2, 4], [6, 8]]\n",
      "\n",
      "The difference of the two matrices is:\n",
      "[[0, 0], [0, 0]]\n"
     ]
    }
   ],
   "source": [
    "#Printing the Sum and Difference of the Two Arrays\n",
    "print(\"\\nThe sum of the two matrices is:\")\n",
    "print(mat_sum)\n",
    "print(\"\\nThe difference of the two matrices is:\")\n",
    "print(mat_diff)"
   ]
  },
  {
   "cell_type": "markdown",
   "metadata": {},
   "source": [
    "Now we move on to Matrix Multiplication"
   ]
  },
  {
   "cell_type": "code",
   "execution_count": 31,
   "metadata": {},
   "outputs": [],
   "source": [
    "#Getting the dimensions of the matrices\n",
    "a_r = int(input(\"Enter the no. of rows of matrix A: \"))\n",
    "a_c = int(input(\"Enter the no. of cols of matrix A: \"))\n",
    "b_r = int(input(\"Enter the no. of rows of matrix B: \"))\n",
    "b_c = int(input(\"Enter the no. of cols of matrix B: \"))\n",
    "\n",
    "#Initializing the Product Matrix\n",
    "for x in range(0, a_r):\n",
    "    row = []\n",
    "    mat_c.append(row)\n",
    "    for y in range(0, b_c):\n",
    "        row.append(0)"
   ]
  },
  {
   "cell_type": "code",
   "execution_count": 32,
   "metadata": {},
   "outputs": [
    {
     "name": "stdout",
     "output_type": "stream",
     "text": [
      "Matrix A\n",
      "Matrix B\n",
      "\n",
      "Matrix A\n",
      "[[1, 2, 3], [4, 5, 6]]\n",
      "\n",
      "Matrix B\n",
      "[[1, 2], [3, 4], [5, 6]]\n",
      "\n",
      "Matrix C\n",
      "[[22, 28], [49, 64]]\n"
     ]
    }
   ],
   "source": [
    "#Checking the condition for Matrix Multiplication is satisfied or not\n",
    "if a_c == b_r:\n",
    "    #Getting the elements of Matrix A\n",
    "    print(\"Matrix A\")\n",
    "    for x in range(0, a_r):\n",
    "        row = []\n",
    "        mat_a.append(row)\n",
    "        for y in  range(0, a_c):\n",
    "            row.append(int(input(f\"Enter Element {x}{y}: \")))\n",
    "\n",
    "    #Getting the elements of Matrix B\n",
    "    print(\"Matrix B\")\n",
    "    for x in range(0, b_r):\n",
    "        row = []\n",
    "        mat_b.append(row)\n",
    "        for y in  range(0, b_c):\n",
    "            row.append(int(input(f\"Enter Element {x}{y}: \")))\n",
    "\n",
    "    #Printing both the matrices\n",
    "    print(\"\\nMatrix A\")\n",
    "    print(mat_a)\n",
    "    print(\"\\nMatrix B\")\n",
    "    print(mat_b)\n",
    "\n",
    "    #Calculating the product of the two matrices\n",
    "    for i in range(0,a_r):\n",
    "        for j in range(0,b_c):\n",
    "            for k in range(0,a_c):\n",
    "                mat_c[i][j] += mat_a[i][k] * mat_b[k][j]\n",
    "\n",
    "    #Printing the product\n",
    "    print(\"\\nThe Product of the Two Matrices A and B is: \")\n",
    "    print(mat_c)\n",
    "        \n",
    "else:\n",
    "    print(\"Matrix Multiplication is not supported for the given dimensions!!\")"
   ]
  },
  {
   "cell_type": "code",
   "execution_count": null,
   "metadata": {},
   "outputs": [],
   "source": []
  }
 ],
 "metadata": {
  "kernelspec": {
   "display_name": "Python 3",
   "language": "python",
   "name": "python3"
  },
  "language_info": {
   "codemirror_mode": {
    "name": "ipython",
    "version": 3
   },
   "file_extension": ".py",
   "mimetype": "text/x-python",
   "name": "python",
   "nbconvert_exporter": "python",
   "pygments_lexer": "ipython3",
   "version": "3.10.9"
  },
  "orig_nbformat": 4
 },
 "nbformat": 4,
 "nbformat_minor": 2
}
