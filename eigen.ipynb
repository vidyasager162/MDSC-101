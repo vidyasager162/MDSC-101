{
 "cells": [
  {
   "cell_type": "code",
   "execution_count": 36,
   "metadata": {},
   "outputs": [],
   "source": [
    "import numpy as np"
   ]
  },
  {
   "cell_type": "code",
   "execution_count": 37,
   "metadata": {},
   "outputs": [],
   "source": [
    "mat = []"
   ]
  },
  {
   "cell_type": "code",
   "execution_count": 38,
   "metadata": {},
   "outputs": [],
   "source": [
    "def findEigen(n):\n",
    "    for i in range(n):\n",
    "        row = []\n",
    "        mat.append(row)\n",
    "        for j in range(n):\n",
    "            row.append(int(input(f\"Enter Element {i}{j}: \")))\n",
    "    print(f\"The matrix is: {mat}\")\n",
    "    eigenvalues, eigenvectors = np.linalg.eig(mat)\n",
    "    print(f\"Eigenvalues: {eigenvalues}\")\n",
    "    print(f\"Eigenvectors: {eigenvectors}\")\n",
    "\n"
   ]
  },
  {
   "cell_type": "code",
   "execution_count": 39,
   "metadata": {},
   "outputs": [
    {
     "name": "stdout",
     "output_type": "stream",
     "text": [
      "The matrix is: [[3, 1, 0], [1, 2, 1], [0, 1, 1]]\n",
      "Eigenvalues: [3.73205081 2.         0.26794919]\n",
      "Eigenvectors: [[ 0.78867513 -0.57735027  0.21132487]\n",
      " [ 0.57735027  0.57735027 -0.57735027]\n",
      " [ 0.21132487  0.57735027  0.78867513]]\n"
     ]
    }
   ],
   "source": [
    "findEigen(int(input(\"Enter the dimension of the Square Matrix\")))"
   ]
  },
  {
   "cell_type": "code",
   "execution_count": null,
   "metadata": {},
   "outputs": [],
   "source": []
  }
 ],
 "metadata": {
  "kernelspec": {
   "display_name": "base",
   "language": "python",
   "name": "python3"
  },
  "language_info": {
   "codemirror_mode": {
    "name": "ipython",
    "version": 3
   },
   "file_extension": ".py",
   "mimetype": "text/x-python",
   "name": "python",
   "nbconvert_exporter": "python",
   "pygments_lexer": "ipython3",
   "version": "3.10.9"
  },
  "orig_nbformat": 4
 },
 "nbformat": 4,
 "nbformat_minor": 2
}
