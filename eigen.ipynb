{
 "cells": [
  {
   "cell_type": "code",
   "execution_count": 1,
   "metadata": {},
   "outputs": [],
   "source": [
    "import numpy as np"
   ]
  },
  {
   "cell_type": "code",
   "execution_count": 2,
   "metadata": {},
   "outputs": [],
   "source": [
    "mat = []"
   ]
  },
  {
   "cell_type": "code",
   "execution_count": 3,
   "metadata": {},
   "outputs": [],
   "source": [
    "def findEigen(n):\n",
    "    for i in range(n):\n",
    "        row = []\n",
    "        mat.append(row)\n",
    "        for j in range(n):\n",
    "            row.append(int(input(f\"Enter Element {i}{j}: \")))\n",
    "    print(f\"The matrix is: {mat}\")\n",
    "    eigenvalues, eigenvectors = np.linalg.eig(mat)\n",
    "    print(f\"Eigenvalues: {eigenvalues}\")\n",
    "    print(f\"Eigenvectors: {eigenvectors}\")\n",
    "\n"
   ]
  },
  {
   "cell_type": "code",
   "execution_count": 4,
   "metadata": {},
   "outputs": [
    {
     "name": "stdout",
     "output_type": "stream",
     "text": [
      "\u001b[1;31mSignature:\u001b[0m \u001b[0mnp\u001b[0m\u001b[1;33m.\u001b[0m\u001b[0mlinalg\u001b[0m\u001b[1;33m.\u001b[0m\u001b[0meig\u001b[0m\u001b[1;33m(\u001b[0m\u001b[0ma\u001b[0m\u001b[1;33m)\u001b[0m\u001b[1;33m\u001b[0m\u001b[1;33m\u001b[0m\u001b[0m\n",
      "\u001b[1;31mDocstring:\u001b[0m\n",
      "Compute the eigenvalues and right eigenvectors of a square array.\n",
      "\n",
      "Parameters\n",
      "----------\n",
      "a : (..., M, M) array\n",
      "    Matrices for which the eigenvalues and right eigenvectors will\n",
      "    be computed\n",
      "\n",
      "Returns\n",
      "-------\n",
      "w : (..., M) array\n",
      "    The eigenvalues, each repeated according to its multiplicity.\n",
      "    The eigenvalues are not necessarily ordered. The resulting\n",
      "    array will be of complex type, unless the imaginary part is\n",
      "    zero in which case it will be cast to a real type. When `a`\n",
      "    is real the resulting eigenvalues will be real (0 imaginary\n",
      "    part) or occur in conjugate pairs\n",
      "\n",
      "v : (..., M, M) array\n",
      "    The normalized (unit \"length\") eigenvectors, such that the\n",
      "    column ``v[:,i]`` is the eigenvector corresponding to the\n",
      "    eigenvalue ``w[i]``.\n",
      "\n",
      "Raises\n",
      "------\n",
      "LinAlgError\n",
      "    If the eigenvalue computation does not converge.\n",
      "\n",
      "See Also\n",
      "--------\n",
      "eigvals : eigenvalues of a non-symmetric array.\n",
      "eigh : eigenvalues and eigenvectors of a real symmetric or complex\n",
      "       Hermitian (conjugate symmetric) array.\n",
      "eigvalsh : eigenvalues of a real symmetric or complex Hermitian\n",
      "           (conjugate symmetric) array.\n",
      "scipy.linalg.eig : Similar function in SciPy that also solves the\n",
      "                   generalized eigenvalue problem.\n",
      "scipy.linalg.schur : Best choice for unitary and other non-Hermitian\n",
      "                     normal matrices.\n",
      "\n",
      "Notes\n",
      "-----\n",
      "\n",
      ".. versionadded:: 1.8.0\n",
      "\n",
      "Broadcasting rules apply, see the `numpy.linalg` documentation for\n",
      "details.\n",
      "\n",
      "This is implemented using the ``_geev`` LAPACK routines which compute\n",
      "the eigenvalues and eigenvectors of general square arrays.\n",
      "\n",
      "The number `w` is an eigenvalue of `a` if there exists a vector\n",
      "`v` such that ``a @ v = w * v``. Thus, the arrays `a`, `w`, and\n",
      "`v` satisfy the equations ``a @ v[:,i] = w[i] * v[:,i]``\n",
      "for :math:`i \\in \\{0,...,M-1\\}`.\n",
      "\n",
      "The array `v` of eigenvectors may not be of maximum rank, that is, some\n",
      "of the columns may be linearly dependent, although round-off error may\n",
      "obscure that fact. If the eigenvalues are all different, then theoretically\n",
      "the eigenvectors are linearly independent and `a` can be diagonalized by\n",
      "a similarity transformation using `v`, i.e, ``inv(v) @ a @ v`` is diagonal.\n",
      "\n",
      "For non-Hermitian normal matrices the SciPy function `scipy.linalg.schur`\n",
      "is preferred because the matrix `v` is guaranteed to be unitary, which is\n",
      "not the case when using `eig`. The Schur factorization produces an\n",
      "upper triangular matrix rather than a diagonal matrix, but for normal\n",
      "matrices only the diagonal of the upper triangular matrix is needed, the\n",
      "rest is roundoff error.\n",
      "\n",
      "Finally, it is emphasized that `v` consists of the *right* (as in\n",
      "right-hand side) eigenvectors of `a`.  A vector `y` satisfying\n",
      "``y.T @ a = z * y.T`` for some number `z` is called a *left*\n",
      "eigenvector of `a`, and, in general, the left and right eigenvectors\n",
      "of a matrix are not necessarily the (perhaps conjugate) transposes\n",
      "of each other.\n",
      "\n",
      "References\n",
      "----------\n",
      "G. Strang, *Linear Algebra and Its Applications*, 2nd Ed., Orlando, FL,\n",
      "Academic Press, Inc., 1980, Various pp.\n",
      "\n",
      "Examples\n",
      "--------\n",
      ">>> from numpy import linalg as LA\n",
      "\n",
      "(Almost) trivial example with real e-values and e-vectors.\n",
      "\n",
      ">>> w, v = LA.eig(np.diag((1, 2, 3)))\n",
      ">>> w; v\n",
      "array([1., 2., 3.])\n",
      "array([[1., 0., 0.],\n",
      "       [0., 1., 0.],\n",
      "       [0., 0., 1.]])\n",
      "\n",
      "Real matrix possessing complex e-values and e-vectors; note that the\n",
      "e-values are complex conjugates of each other.\n",
      "\n",
      ">>> w, v = LA.eig(np.array([[1, -1], [1, 1]]))\n",
      ">>> w; v\n",
      "array([1.+1.j, 1.-1.j])\n",
      "array([[0.70710678+0.j        , 0.70710678-0.j        ],\n",
      "       [0.        -0.70710678j, 0.        +0.70710678j]])\n",
      "\n",
      "Complex-valued matrix with real e-values (but complex-valued e-vectors);\n",
      "note that ``a.conj().T == a``, i.e., `a` is Hermitian.\n",
      "\n",
      ">>> a = np.array([[1, 1j], [-1j, 1]])\n",
      ">>> w, v = LA.eig(a)\n",
      ">>> w; v\n",
      "array([2.+0.j, 0.+0.j])\n",
      "array([[ 0.        +0.70710678j,  0.70710678+0.j        ], # may vary\n",
      "       [ 0.70710678+0.j        , -0.        +0.70710678j]])\n",
      "\n",
      "Be careful about round-off error!\n",
      "\n",
      ">>> a = np.array([[1 + 1e-9, 0], [0, 1 - 1e-9]])\n",
      ">>> # Theor. e-values are 1 +/- 1e-9\n",
      ">>> w, v = LA.eig(a)\n",
      ">>> w; v\n",
      "array([1., 1.])\n",
      "array([[1., 0.],\n",
      "       [0., 1.]])\n",
      "\u001b[1;31mFile:\u001b[0m      c:\\users\\vidyasager\\anaconda3\\lib\\site-packages\\numpy\\linalg\\linalg.py\n",
      "\u001b[1;31mType:\u001b[0m      function"
     ]
    }
   ],
   "source": [
    "np.linalg.eig?"
   ]
  },
  {
   "cell_type": "code",
   "execution_count": 5,
   "metadata": {},
   "outputs": [
    {
     "name": "stdout",
     "output_type": "stream",
     "text": [
      "The matrix is: [[0, 1, 1, 1], [1, 0, 1, 1], [1, 1, 0, 1], [1, 1, 1, 0]]\n",
      "Eigenvalues: [-1.  3. -1. -1.]\n",
      "Eigenvectors: [[-0.8660254   0.5        -0.16928072  0.06319169]\n",
      " [ 0.28867513  0.5         0.85717325 -0.27857451]\n",
      " [ 0.28867513  0.5        -0.34394626 -0.56134079]\n",
      " [ 0.28867513  0.5        -0.34394626  0.77672361]]\n"
     ]
    }
   ],
   "source": [
    "findEigen(int(input(\"Enter the dimension of the Square Matrix\")))"
   ]
  },
  {
   "cell_type": "code",
   "execution_count": 6,
   "metadata": {},
   "outputs": [],
   "source": [
    "A = np.array([[1,2,3], [4,5,6]])\n",
    "\n",
    "eig1, U = np.linalg.eig(A @ A.T)\n",
    "eig2, V = np.linalg.eig(A.T @ A)"
   ]
  },
  {
   "cell_type": "code",
   "execution_count": 7,
   "metadata": {},
   "outputs": [
    {
     "name": "stdout",
     "output_type": "stream",
     "text": [
      "The eigen values and eigen vectors for AAt is: [ 0.59732747 90.40267253] \n",
      " [[-0.92236578 -0.3863177 ]\n",
      " [ 0.3863177  -0.92236578]]\n",
      "The eigen values and eigen vectors for AtA is: [ 9.04026725e+01  5.97327474e-01 -4.04484173e-15] \n",
      " [[-0.42866713 -0.80596391  0.40824829]\n",
      " [-0.56630692 -0.11238241 -0.81649658]\n",
      " [-0.7039467   0.58119908  0.40824829]]\n"
     ]
    }
   ],
   "source": [
    "print(f\"The eigen values and eigen vectors for AAt is: {eig1} \\n {U}\")\n",
    "print(f\"The eigen values and eigen vectors for AtA is: {eig2} \\n {V}\")"
   ]
  },
  {
   "cell_type": "code",
   "execution_count": 8,
   "metadata": {},
   "outputs": [
    {
     "data": {
      "text/plain": [
       "array([[0.77286964, 0.        ],\n",
       "       [0.        , 9.508032  ]])"
      ]
     },
     "execution_count": 8,
     "metadata": {},
     "output_type": "execute_result"
    }
   ],
   "source": [
    "lambda_1 = np.diag(np.sqrt(eig1))\n",
    "lambda_1"
   ]
  },
  {
   "cell_type": "code",
   "execution_count": 9,
   "metadata": {},
   "outputs": [
    {
     "data": {
      "text/plain": [
       "array([[0, 0, 0],\n",
       "       [0, 0, 0]])"
      ]
     },
     "execution_count": 9,
     "metadata": {},
     "output_type": "execute_result"
    }
   ],
   "source": [
    "lamda = np.zeros_like(A)\n",
    "lamda"
   ]
  },
  {
   "cell_type": "code",
   "execution_count": 10,
   "metadata": {},
   "outputs": [
    {
     "ename": "ValueError",
     "evalue": "operands could not be broadcast together with shapes (2,3) (2,2) ",
     "output_type": "error",
     "traceback": [
      "\u001b[1;31m---------------------------------------------------------------------------\u001b[0m",
      "\u001b[1;31mValueError\u001b[0m                                Traceback (most recent call last)",
      "Cell \u001b[1;32mIn[10], line 1\u001b[0m\n\u001b[1;32m----> 1\u001b[0m lamda \u001b[39m=\u001b[39m np\u001b[39m.\u001b[39;49madd(lamda, lambda_1)\n",
      "\u001b[1;31mValueError\u001b[0m: operands could not be broadcast together with shapes (2,3) (2,2) "
     ]
    }
   ],
   "source": [
    "lamda = np.add(lamda, lambda_1)"
   ]
  },
  {
   "cell_type": "code",
   "execution_count": null,
   "metadata": {},
   "outputs": [
    {
     "name": "stdout",
     "output_type": "stream",
     "text": [
      "\u001b[1;31mSignature:\u001b[0m \u001b[0mnp\u001b[0m\u001b[1;33m.\u001b[0m\u001b[0mlinalg\u001b[0m\u001b[1;33m.\u001b[0m\u001b[0msvd\u001b[0m\u001b[1;33m(\u001b[0m\u001b[0ma\u001b[0m\u001b[1;33m,\u001b[0m \u001b[0mfull_matrices\u001b[0m\u001b[1;33m=\u001b[0m\u001b[1;32mTrue\u001b[0m\u001b[1;33m,\u001b[0m \u001b[0mcompute_uv\u001b[0m\u001b[1;33m=\u001b[0m\u001b[1;32mTrue\u001b[0m\u001b[1;33m,\u001b[0m \u001b[0mhermitian\u001b[0m\u001b[1;33m=\u001b[0m\u001b[1;32mFalse\u001b[0m\u001b[1;33m)\u001b[0m\u001b[1;33m\u001b[0m\u001b[1;33m\u001b[0m\u001b[0m\n",
      "\u001b[1;31mDocstring:\u001b[0m\n",
      "Singular Value Decomposition.\n",
      "\n",
      "When `a` is a 2D array, and ``full_matrices=False``, then it is\n",
      "factorized as ``u @ np.diag(s) @ vh = (u * s) @ vh``, where\n",
      "`u` and the Hermitian transpose of `vh` are 2D arrays with\n",
      "orthonormal columns and `s` is a 1D array of `a`'s singular\n",
      "values. When `a` is higher-dimensional, SVD is applied in\n",
      "stacked mode as explained below.\n",
      "\n",
      "Parameters\n",
      "----------\n",
      "a : (..., M, N) array_like\n",
      "    A real or complex array with ``a.ndim >= 2``.\n",
      "full_matrices : bool, optional\n",
      "    If True (default), `u` and `vh` have the shapes ``(..., M, M)`` and\n",
      "    ``(..., N, N)``, respectively.  Otherwise, the shapes are\n",
      "    ``(..., M, K)`` and ``(..., K, N)``, respectively, where\n",
      "    ``K = min(M, N)``.\n",
      "compute_uv : bool, optional\n",
      "    Whether or not to compute `u` and `vh` in addition to `s`.  True\n",
      "    by default.\n",
      "hermitian : bool, optional\n",
      "    If True, `a` is assumed to be Hermitian (symmetric if real-valued),\n",
      "    enabling a more efficient method for finding singular values.\n",
      "    Defaults to False.\n",
      "\n",
      "    .. versionadded:: 1.17.0\n",
      "\n",
      "Returns\n",
      "-------\n",
      "u : { (..., M, M), (..., M, K) } array\n",
      "    Unitary array(s). The first ``a.ndim - 2`` dimensions have the same\n",
      "    size as those of the input `a`. The size of the last two dimensions\n",
      "    depends on the value of `full_matrices`. Only returned when\n",
      "    `compute_uv` is True.\n",
      "s : (..., K) array\n",
      "    Vector(s) with the singular values, within each vector sorted in\n",
      "    descending order. The first ``a.ndim - 2`` dimensions have the same\n",
      "    size as those of the input `a`.\n",
      "vh : { (..., N, N), (..., K, N) } array\n",
      "    Unitary array(s). The first ``a.ndim - 2`` dimensions have the same\n",
      "    size as those of the input `a`. The size of the last two dimensions\n",
      "    depends on the value of `full_matrices`. Only returned when\n",
      "    `compute_uv` is True.\n",
      "\n",
      "Raises\n",
      "------\n",
      "LinAlgError\n",
      "    If SVD computation does not converge.\n",
      "\n",
      "See Also\n",
      "--------\n",
      "scipy.linalg.svd : Similar function in SciPy.\n",
      "scipy.linalg.svdvals : Compute singular values of a matrix.\n",
      "\n",
      "Notes\n",
      "-----\n",
      "\n",
      ".. versionchanged:: 1.8.0\n",
      "   Broadcasting rules apply, see the `numpy.linalg` documentation for\n",
      "   details.\n",
      "\n",
      "The decomposition is performed using LAPACK routine ``_gesdd``.\n",
      "\n",
      "SVD is usually described for the factorization of a 2D matrix :math:`A`.\n",
      "The higher-dimensional case will be discussed below. In the 2D case, SVD is\n",
      "written as :math:`A = U S V^H`, where :math:`A = a`, :math:`U= u`,\n",
      ":math:`S= \\mathtt{np.diag}(s)` and :math:`V^H = vh`. The 1D array `s`\n",
      "contains the singular values of `a` and `u` and `vh` are unitary. The rows\n",
      "of `vh` are the eigenvectors of :math:`A^H A` and the columns of `u` are\n",
      "the eigenvectors of :math:`A A^H`. In both cases the corresponding\n",
      "(possibly non-zero) eigenvalues are given by ``s**2``.\n",
      "\n",
      "If `a` has more than two dimensions, then broadcasting rules apply, as\n",
      "explained in :ref:`routines.linalg-broadcasting`. This means that SVD is\n",
      "working in \"stacked\" mode: it iterates over all indices of the first\n",
      "``a.ndim - 2`` dimensions and for each combination SVD is applied to the\n",
      "last two indices. The matrix `a` can be reconstructed from the\n",
      "decomposition with either ``(u * s[..., None, :]) @ vh`` or\n",
      "``u @ (s[..., None] * vh)``. (The ``@`` operator can be replaced by the\n",
      "function ``np.matmul`` for python versions below 3.5.)\n",
      "\n",
      "If `a` is a ``matrix`` object (as opposed to an ``ndarray``), then so are\n",
      "all the return values.\n",
      "\n",
      "Examples\n",
      "--------\n",
      ">>> a = np.random.randn(9, 6) + 1j*np.random.randn(9, 6)\n",
      ">>> b = np.random.randn(2, 7, 8, 3) + 1j*np.random.randn(2, 7, 8, 3)\n",
      "\n",
      "Reconstruction based on full SVD, 2D case:\n",
      "\n",
      ">>> u, s, vh = np.linalg.svd(a, full_matrices=True)\n",
      ">>> u.shape, s.shape, vh.shape\n",
      "((9, 9), (6,), (6, 6))\n",
      ">>> np.allclose(a, np.dot(u[:, :6] * s, vh))\n",
      "True\n",
      ">>> smat = np.zeros((9, 6), dtype=complex)\n",
      ">>> smat[:6, :6] = np.diag(s)\n",
      ">>> np.allclose(a, np.dot(u, np.dot(smat, vh)))\n",
      "True\n",
      "\n",
      "Reconstruction based on reduced SVD, 2D case:\n",
      "\n",
      ">>> u, s, vh = np.linalg.svd(a, full_matrices=False)\n",
      ">>> u.shape, s.shape, vh.shape\n",
      "((9, 6), (6,), (6, 6))\n",
      ">>> np.allclose(a, np.dot(u * s, vh))\n",
      "True\n",
      ">>> smat = np.diag(s)\n",
      ">>> np.allclose(a, np.dot(u, np.dot(smat, vh)))\n",
      "True\n",
      "\n",
      "Reconstruction based on full SVD, 4D case:\n",
      "\n",
      ">>> u, s, vh = np.linalg.svd(b, full_matrices=True)\n",
      ">>> u.shape, s.shape, vh.shape\n",
      "((2, 7, 8, 8), (2, 7, 3), (2, 7, 3, 3))\n",
      ">>> np.allclose(b, np.matmul(u[..., :3] * s[..., None, :], vh))\n",
      "True\n",
      ">>> np.allclose(b, np.matmul(u[..., :3], s[..., None] * vh))\n",
      "True\n",
      "\n",
      "Reconstruction based on reduced SVD, 4D case:\n",
      "\n",
      ">>> u, s, vh = np.linalg.svd(b, full_matrices=False)\n",
      ">>> u.shape, s.shape, vh.shape\n",
      "((2, 7, 8, 3), (2, 7, 3), (2, 7, 3, 3))\n",
      ">>> np.allclose(b, np.matmul(u * s[..., None, :], vh))\n",
      "True\n",
      ">>> np.allclose(b, np.matmul(u, s[..., None] * vh))\n",
      "True\n",
      "\u001b[1;31mFile:\u001b[0m      c:\\users\\vidyasager\\anaconda3\\lib\\site-packages\\numpy\\linalg\\linalg.py\n",
      "\u001b[1;31mType:\u001b[0m      function"
     ]
    }
   ],
   "source": [
    "np.linalg.svd?"
   ]
  },
  {
   "cell_type": "code",
   "execution_count": null,
   "metadata": {},
   "outputs": [],
   "source": []
  }
 ],
 "metadata": {
  "kernelspec": {
   "display_name": "base",
   "language": "python",
   "name": "python3"
  },
  "language_info": {
   "codemirror_mode": {
    "name": "ipython",
    "version": 3
   },
   "file_extension": ".py",
   "mimetype": "text/x-python",
   "name": "python",
   "nbconvert_exporter": "python",
   "pygments_lexer": "ipython3",
   "version": "3.10.9"
  },
  "orig_nbformat": 4
 },
 "nbformat": 4,
 "nbformat_minor": 2
}
