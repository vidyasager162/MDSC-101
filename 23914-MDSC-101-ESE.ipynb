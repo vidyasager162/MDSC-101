{
 "cells": [
  {
   "cell_type": "code",
   "execution_count": 29,
   "metadata": {},
   "outputs": [
    {
     "name": "stdout",
     "output_type": "stream",
     "text": [
      "The Matrix M is: \n",
      "[1, 2, 3]\n",
      "[4, 5, 6]\n",
      "[7, 8, 9]\n",
      "\n",
      "The individual rows are: \n",
      "Row 0:  [1, 2, 3]\n",
      "\n",
      "Row 1:  [4, 5, 6]\n",
      "\n",
      "Row 2:  [7, 8, 9]\n",
      "\n",
      "The individual columns are: \n",
      "Column 0:  [1, 4, 7]\n",
      "\n",
      "Column 1:  [2, 5, 8]\n",
      "\n",
      "Column 2:  [3, 6, 9]\n",
      "\n"
     ]
    }
   ],
   "source": [
    "M = []\n",
    "r = int(input(\"Enter the number of rows for the Matrix M: \"))\n",
    "c = int(input(\"Enter the number of columns for the Matrix M: \"))\n",
    "\n",
    "for i in range(r):\n",
    "    row = []\n",
    "    for j in range(c):\n",
    "        val = int(input(f\"Enter element {[i]}{[j]}: \"))\n",
    "        row.append(val)\n",
    "    M.append(row)\n",
    "\n",
    "print(\"The Matrix M is: \")\n",
    "for row in range(r):\n",
    "    print(M[row])\n",
    "\n",
    "print(\"\")\n",
    "print(\"The individual rows are: \")\n",
    "for row in range(r):\n",
    "    print(f\"Row {row}: \", M[row])\n",
    "    print(\"\")\n",
    "\n",
    "print(\"The individual columns are: \")\n",
    "for row in range(r):\n",
    "    r = []\n",
    "    for col in range(c):\n",
    "        r.append(M[col][row])\n",
    "    print(f\"Column {row}: \", r)\n",
    "    print(\"\")"
   ]
  },
  {
   "cell_type": "code",
   "execution_count": null,
   "metadata": {},
   "outputs": [],
   "source": []
  },
  {
   "cell_type": "code",
   "execution_count": null,
   "metadata": {},
   "outputs": [],
   "source": [
    "for i in range(r):\n",
    "    row = []\n",
    "    for j in range(c):\n",
    "        val = int(input(f\"Enter element {[i]}{[j]}: \"))\n",
    "        row.append(val)\n",
    "    M.append(row)\n",
    "\n",
    "print(\"The Matrix M is: \")\n",
    "for row in range(r):\n",
    "    print(M[row])\n",
    "\n",
    "print(\"\")\n",
    "print(\"The individual rows are: \")\n",
    "for row in range(r):\n",
    "    print(f\"Row {row}: \", M[row])\n",
    "    print(\"\")\n",
    "\n",
    "print(\"The individual columns are: \")\n",
    "for row in range(r):\n",
    "    r = []\n",
    "    for col in range(c):\n",
    "        r.append(M[col][row])\n",
    "    print(f\"Column {row}: \", r)\n",
    "    print(\"\")"
   ]
  },
  {
   "cell_type": "code",
   "execution_count": null,
   "metadata": {},
   "outputs": [],
   "source": []
  }
 ],
 "metadata": {
  "kernelspec": {
   "display_name": "base",
   "language": "python",
   "name": "python3"
  },
  "language_info": {
   "codemirror_mode": {
    "name": "ipython",
    "version": 3
   },
   "file_extension": ".py",
   "mimetype": "text/x-python",
   "name": "python",
   "nbconvert_exporter": "python",
   "pygments_lexer": "ipython3",
   "version": "3.11.5"
  }
 },
 "nbformat": 4,
 "nbformat_minor": 2
}
